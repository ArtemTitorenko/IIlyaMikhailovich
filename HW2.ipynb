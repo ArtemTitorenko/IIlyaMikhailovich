{
 "cells": [
  {
   "cell_type": "markdown",
   "metadata": {},
   "source": [
    "# HW2"
   ]
  },
  {
   "cell_type": "markdown",
   "metadata": {},
   "source": [
    "Неснижаемая остаточная водонасыщенность: $ S_{wr} = 0.421 $;\n",
    "\n",
    "Плотность нефти: $ \\rho_{o} = 750 \\frac{kg}{m ^ 3} $;\n",
    "\n",
    "Плотность воды: $ \\rho_{w} = 1050 \\frac{kg}{m ^ 3} $;\n",
    "\n",
    "Капилярное давление задано функцией от водонасыщенности $S_{w}$: \n",
    "$ P_{cap}(S_{w}) = \\frac{0.937 \\cdot 10 ^ 5 \\cdot ( e ^{-25 S_{w}} - e ^ {-25} )}{( e ^{-25 S_{wr}} - e ^ {-25} )} $ (1)"
   ]
  },
  {
   "cell_type": "markdown",
   "metadata": {},
   "source": [
    "### Пункт 1"
   ]
  },
  {
   "cell_type": "markdown",
   "metadata": {},
   "source": [
    "Капилярное давление также выражается формулой: \n",
    "\n",
    "$P_{cap}(S_{w}) = \\int_{0}^{H} (\\rho_{w} - \\rho_{o}) \\cdot g \\cdot d\\widetilde{h}$ (2);\n",
    "\n",
    "Посчитаем этот интеграл: \n",
    "\n",
    "$ \\int_{0}^{H} (\\rho_{w} - \\rho_{o}) \\cdot g \\cdot d\\widetilde{h} = (\\rho_{w} - \\rho_{o})gH$ (3);\n",
    "\n",
    "Приравняем два выражения для капилярного давления:\n",
    "\n",
    "$ \\frac{0.937 \\cdot 10 ^ 5 \\cdot ( e ^{-25 S_{w}} - e ^ {-25} )}{( e ^{-25 S_{wr}} - e ^ {-25} )} = (\\rho_{w} - \\rho_{o})gH$ (4);\n",
    "\n",
    "Подставим исходные данные в это выражение и посчитаем высоту $H$, для которой будет достигнуто значени $S_{w} = 0.421$."
   ]
  },
  {
   "cell_type": "code",
   "execution_count": 1,
   "metadata": {},
   "outputs": [
    {
     "name": "stdout",
     "output_type": "stream",
     "text": [
      "H = 31.87074829931973\n"
     ]
    }
   ],
   "source": [
    "oil_density = 750\n",
    "water_density = 1050\n",
    "g = 9.8\n",
    "\n",
    "H = 0.937 * 10 ** (5) / ( (water_density - oil_density) * g )  \n",
    "print('H = {}'.format(H))"
   ]
  },
  {
   "cell_type": "markdown",
   "metadata": {},
   "source": [
    "Теперь выразим начальную водонасыщенность из формулы (1):\n",
    "$S_{w}(h) = -\\frac{1}{25} ln(\\frac{(\\rho_{w} - \\rho_{o}) h g ( e ^{-25 S_{wr}} - e ^ {-25} )}\n",
    "                                  {0.937 \\cdot 10 ^ 5} +e^{-25})$ (5)."
   ]
  },
  {
   "cell_type": "code",
   "execution_count": 3,
   "metadata": {},
   "outputs": [
    {
     "data": {
      "text/plain": [
       "[<matplotlib.lines.Line2D at 0x11907a290>]"
      ]
     },
     "execution_count": 3,
     "metadata": {},
     "output_type": "execute_result"
    },
    {
     "data": {
      "image/png": "[encoded data removed]",
      "text/plain": [
       "<Figure size 576x360 with 1 Axes>"
      ]
     },
     "metadata": {
      "needs_background": "light"
     },
     "output_type": "display_data"
    }
   ],
   "source": [
    "import math\n",
    "import matplotlib.pyplot as plt\n",
    "\n",
    "S_wr = 0.421\n",
    "S_w = lambda h: -math.log( (water_density - oil_density) * h * g * (math.exp(-25 * S_wr) - math.exp(-25)) / \\\n",
    "                           (0.937 * 10 ** 5) + math.exp(-25) ) / 25\n",
    "\n",
    "h0, h1 = 0, H\n",
    "number_intervals = 150\n",
    "step = (h1 - h0) / number_intervals\n",
    "\n",
    "h = [h0 + i * step for i in range(number_intervals)]\n",
    "s = [S_w(h_i) for h_i in h]\n",
    "\n",
    "plt.figure(figsize=(8, 5))\n",
    "plt.xlabel('h')\n",
    "plt.ylabel('S_w')\n",
    "plt.plot(h, s)"
   ]
  },
  {
   "cell_type": "markdown",
   "metadata": {},
   "source": [
    "### Пункт 2"
   ]
  },
  {
   "cell_type": "markdown",
   "metadata": {},
   "source": [
    "Капилярное давление масштабируется в зависимости от функции Леверетта следующим образом:\n",
    "\n",
    "$ P_{cap} = \\frac{\\sigma cos(\\Theta)}{\\sqrt{\\frac{k}{m}}} J(S_{w})$ (6),\n",
    "\n",
    "где $J(S_{w})$ - функция Леверетта. Зависимость капилярного давления из условий(в начале файла) справедлива при краевом угле смачивания  $\\Theta = 0$, тогда имеем:\n",
    "\n",
    "$ \\frac{\\sigma}{\\sqrt{\\frac{k}{m}}} J(S_{w}) = \\frac{0.937 \\cdot 10 ^ 5 \\cdot ( e ^{-25 S_{w}} - e ^ {-25} )}{( e ^{-25 S_{wr}} - e ^ {-25} )}$ (7).\n",
    "\n",
    "Теперь с учетом (7) перепишем выражение (6):\n",
    "\n",
    "$ P_{cap} = \\frac{0.937 \\cdot 10 ^ 5 \\cdot ( e ^{-25 S_{w}} - e ^ {-25} ) cos(\\Theta)}{( e ^{-25 S_{wr}} - e ^ {-25} )}$ (8);\n",
    "\n",
    "Приравняем (8) и (2):\n",
    "\n",
    "$ \\frac{0.937 \\cdot 10 ^ 5 \\cdot ( e ^{-25 S_{w}} - e ^ {-25} ) cos(\\Theta)}{( e ^{-25 S_{wr}} - e ^ {-25} )} =  (\\rho_{w} - \\rho_{o})gH$ (9);\n",
    "\n",
    "Снова выразим начальную водонасыщенность:\n",
    "\n",
    "$S_{w}(h) = -\\frac{1}{25} ln(\\frac{(\\rho_{w} - \\rho_{o}) h g ( e ^{-25 S_{wr}} - e ^ {-25} )}\n",
    "                                  {0.937 \\cdot 10 ^ 5 \\cdot cos(\\Theta)} +e^{-25})$ (10);"
   ]
  },
  {
   "cell_type": "code",
   "execution_count": 4,
   "metadata": {},
   "outputs": [
    {
     "data": {
      "text/plain": [
       "[<matplotlib.lines.Line2D at 0x1192d36d0>]"
      ]
     },
     "execution_count": 4,
     "metadata": {},
     "output_type": "execute_result"
    },
    {
     "data": {
      "image/png": "[encoded data removed]",
      "text/plain": [
       "<Figure size 576x360 with 1 Axes>"
      ]
     },
     "metadata": {
      "needs_background": "light"
     },
     "output_type": "display_data"
    }
   ],
   "source": [
    "theta_0 = 0\n",
    "# водонасыщенность перестанет изменяться после угла 90 градусов\n",
    "theta_1 = 90\n",
    "\n",
    "h0, h1 = 0, 90 * H / 120\n",
    "number_intervals = 150\n",
    "step = (h1 - h0) / number_intervals \n",
    "\n",
    "theta = lambda h: h / step * (theta_1 - theta_0) / number_intervals\n",
    "S_w = lambda h: -math.log( (water_density - oil_density) * h * g * (math.exp(-25 * S_wr) - math.exp(-25)) / \\\n",
    "                           ( math.cos(math.radians(theta(h))) * 0.937 * 10 ** 5 ) + math.exp(-25) ) / 25\n",
    "\n",
    "h = [h0 + i * step for i in range(number_intervals)]\n",
    "s = [S_w(h_i) for h_i in h]\n",
    "\n",
    "plt.figure(figsize=(8, 5))\n",
    "plt.ylabel('h')\n",
    "plt.xlabel('S_w')\n",
    "plt.plot(s, h)"
   ]
  },
  {
   "cell_type": "markdown",
   "metadata": {},
   "source": [
    "### Пункт 3"
   ]
  },
  {
   "cell_type": "markdown",
   "metadata": {},
   "source": [
    "Проницаемость $k$ меняется по параболической зависимости. Составим уравнения этой параболы по 3 точкам: (0;5),\n",
    "(H/2;50), (H;5).\n",
    "\n",
    "Подставляя первую точку в уравнение(в общем виде) параболы, можно сразу найти коэффициент $c$:\n",
    "\n",
    "$5 = a \\cdot 0 + b \\cdot 0 + c$\n",
    "$\\Rightarrow c = 5$.\n",
    "\n",
    "Далее сосставим систему уравнений, используя вершину параболы:\n",
    "\n",
    "$\\begin{cases} \\frac{H}{2} = -\\frac{b}{2a} \\\\ 50 = a\\frac{H^2}{4} + b\\frac{H}{2} + 5\\end{cases}$.\n",
    "\n",
    "Решая данную систему, получим коэффициенты:\n",
    "\n",
    "$a = -\\frac{180}{H^2}$,\n",
    "$b = \\frac{180}{H}$.\n",
    "\n",
    "Уравнение параболы в таком случае будет выглядить следующим образом:\n",
    "\n",
    "$k(h) = -\\frac{180}{H^2} \\cdot h + \\frac{180}{H} \\cdot h + 5$ (11).\n",
    "\n",
    "Подставим $k(0) = 5 \\cdot 10^{-3} D$ в формулу\n",
    "$ \\frac{\\sigma cos(\\Theta)}{\\sqrt{\\frac{k}{m}}} J(S_{w}) = \\frac{0.937 \\cdot 10 ^ 5 \\cdot ( e ^{-25 S_{w}} - e ^ {-25} )}{( e ^{-25 S_{wr}} - e ^ {-25} )}$, и получим\n",
    "\n",
    "$\\sigma \\cdot cos(\\Theta) \\cdot \\sqrt{m} \\cdot J(S_{w}) = \\frac{\\sqrt{5 \\cdot 10 ^ {-3}} \\cdot 0.937 \\cdot 10 ^ 5 \\cdot ( e ^{-25 S_{w}} - e ^ {-25} )}{( e ^{-25 S_{wr}} - e ^ {-25} )}$ (12);\n",
    "\n",
    "Учитывая (12) перепишем (6):\n",
    "\n",
    "$P_{cap} = \\frac{\\sqrt{5 \\cdot 10 ^ {-3}} \\cdot 0.937 \\cdot 10 ^ 5 \\cdot ( e ^{-25 S_{w}} - e ^ {-25} )}{( e ^{-25 S_{wr}} - e ^ {-25} ) \\cdot \\sqrt{k \\cdot 10 ^ {-3}}}$(13).\n",
    "\n",
    "Приравняем выражения (13) и (2), получим:\n",
    "\n",
    "$ \\frac{\\sqrt{5 \\cdot 10 ^ {-3}} \\cdot 0.937 \\cdot 10 ^ 5 \\cdot ( e ^{-25 S_{w}} - e ^ {-25} )}{( e ^{-25 S_{wr}} - e ^ {-25} ) \\cdot \\sqrt{k \\cdot 10 ^ {-3}}} = (\\rho_{w} - \\rho_{o})gH$ (14).\n",
    "\n",
    "Из формулы (14) выразим начальную водонасыщенность:\n",
    "\n",
    "$S_{w}(h) = -\\frac{1}{25} ln(\\frac{(\\rho_{w} - \\rho_{o}) h g ( e ^{-25 S_{wr}} - e ^ {-25} ) \\cdot \\sqrt{k \\cdot 10 ^ {-3}}}{0.937 \\cdot 10 ^ 5 \\cdot \\sqrt{5 \\cdot 10 ^ {-3}} } +e^{-25})$."
   ]
  },
  {
   "cell_type": "code",
   "execution_count": 5,
   "metadata": {},
   "outputs": [
    {
     "data": {
      "text/plain": [
       "[<matplotlib.lines.Line2D at 0x11933f990>]"
      ]
     },
     "execution_count": 5,
     "metadata": {},
     "output_type": "execute_result"
    },
    {
     "data": {
      "image/png": "[encoded data removed]",
      "text/plain": [
       "<Figure size 576x360 with 1 Axes>"
      ]
     },
     "metadata": {
      "needs_background": "light"
     },
     "output_type": "display_data"
    }
   ],
   "source": [
    "a, b, c = -180 / H ** 2, 180 / H, 5\n",
    "\n",
    "k = lambda x: a * x ** 2 + b * x + c\n",
    "\n",
    "S_w = lambda h: - 1 / 25 * math.log(\n",
    "        (water_density - oil_density) * h * g * (math.exp(-25 * S_wr) - \\\n",
    "                                                 math.exp(-25)) * math.sqrt(k(h) * 10 ** (-3)) / \\\n",
    "        ( math.sqrt(5 * 10 ** (-3)) * 0.937 * 10 ** 5 ) + math.exp(-25) )\n",
    "\n",
    "h0, h1 = 0, H\n",
    "number_intervals = 150\n",
    "step = (h1 - h0) / number_intervals \n",
    "\n",
    "h = [h0 + i * step for i in range(number_intervals)]\n",
    "s = [S_w(h_i) for h_i in h]\n",
    "\n",
    "plt.figure(figsize=(8, 5))\n",
    "plt.ylabel('h')\n",
    "plt.xlabel('S_w')\n",
    "plt.plot(s, h)"
   ]
  }
 ],
 "metadata": {
  "kernelspec": {
   "display_name": "Python 3",
   "language": "python",
   "name": "python3"
  },
  "language_info": {
   "codemirror_mode": {
    "name": "ipython",
    "version": 3
   },
   "file_extension": ".py",
   "mimetype": "text/x-python",
   "name": "python",
   "nbconvert_exporter": "python",
   "pygments_lexer": "ipython3",
   "version": "3.7.4"
  }
 },
 "nbformat": 4,
 "nbformat_minor": 2
}
